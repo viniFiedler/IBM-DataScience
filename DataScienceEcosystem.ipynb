{
 "cells": [
  {
   "cell_type": "markdown",
   "id": "7a495ef8-afa1-46f4-9438-971dd4bd548f",
   "metadata": {},
   "source": [
    "# Data Science Tools and Ecosystem\n"
   ]
  },
  {
   "cell_type": "markdown",
   "id": "d023688e-327f-4998-82a2-59154dd4d95c",
   "metadata": {},
   "source": [
    "In this notebook, Data Science Tools and Ecosystem are summarized.\n"
   ]
  },
  {
   "cell_type": "markdown",
   "id": "c6492a8d-a260-4804-afae-e6938c37e0f9",
   "metadata": {},
   "source": [
    "**Objectives:**\n",
    "- List of Popular Languages in Data Science\n",
    "- List of commonly used libraries by Data Scientists\n",
    "- Arithmetic Expression in Python\n",
    "- Convert Hours to Minutes"
   ]
  },
  {
   "cell_type": "markdown",
   "id": "fc24819e-c86e-46c8-94b0-13408ee15fc2",
   "metadata": {},
   "source": [
    "Some of the popular languages that Data Scientists use are:\n",
    "1. Python\n",
    "2. R\n",
    "3. Julia"
   ]
  },
  {
   "cell_type": "markdown",
   "id": "b5143478-9ae7-4eb2-be2c-14bae2ee23a1",
   "metadata": {},
   "source": [
    "Some of the commonly used libraries used by Data Scientists include:\n",
    "1. Keras\n",
    "2. TensorFlow\n",
    "3. Scikit Learn"
   ]
  },
  {
   "cell_type": "markdown",
   "id": "c440ee03-6e7a-457d-a8d0-41b17409406a",
   "metadata": {
    "tags": []
   },
   "source": [
    "| Data Science Tools |\n",
    "|--------------------|\n",
    "| Jupyter Notebooks  |\n",
    "| Apache Spark       |\n",
    "| TensorFlow         |"
   ]
  },
  {
   "cell_type": "markdown",
   "id": "7423aa89-38b9-475a-8f0c-9da3370e9666",
   "metadata": {},
   "source": [
    "### Below are a few examples of evaluating arithmetic expressions in Python\n",
    "\n",
    "$if (1 + 1) > 1$"
   ]
  },
  {
   "cell_type": "code",
   "execution_count": 2,
   "id": "46376007-a8ab-4c4e-b838-9beb8040a8f7",
   "metadata": {
    "tags": []
   },
   "outputs": [
    {
     "data": {
      "text/plain": [
       "17"
      ]
     },
     "execution_count": 2,
     "metadata": {},
     "output_type": "execute_result"
    }
   ],
   "source": [
    "(3*4)+5\n",
    "# his a simple arithmetic expression to mutiply then add integers"
   ]
  },
  {
   "cell_type": "code",
   "execution_count": 3,
   "id": "f5338101-8d46-4ae3-936b-6fedfda4d402",
   "metadata": {
    "tags": []
   },
   "outputs": [
    {
     "data": {
      "text/plain": [
       "3.3333333333333335"
      ]
     },
     "execution_count": 3,
     "metadata": {},
     "output_type": "execute_result"
    }
   ],
   "source": [
    "# This will convert 200 minutes to hours by diving by 60\n",
    "200 / 60"
   ]
  },
  {
   "cell_type": "markdown",
   "id": "6b1ac856-69c3-4ea2-87c8-96cf6fee2cec",
   "metadata": {
    "tags": []
   },
   "source": [
    "## Author\n",
    "\n",
    "Vinicius Garcia"
   ]
  },
  {
   "cell_type": "code",
   "execution_count": null,
   "id": "1e6cc49d-574f-4330-90bb-47eb26f7f8da",
   "metadata": {},
   "outputs": [],
   "source": []
  }
 ],
 "metadata": {
  "kernelspec": {
   "display_name": "Python",
   "language": "python",
   "name": "conda-env-python-py"
  },
  "language_info": {
   "codemirror_mode": {
    "name": "ipython",
    "version": 3
   },
   "file_extension": ".py",
   "mimetype": "text/x-python",
   "name": "python",
   "nbconvert_exporter": "python",
   "pygments_lexer": "ipython3",
   "version": "3.7.12"
  }
 },
 "nbformat": 4,
 "nbformat_minor": 5
}
